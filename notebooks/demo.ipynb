{
 "cells": [
  {
   "cell_type": "code",
   "execution_count": null,
   "metadata": {},
   "outputs": [],
   "source": [
    "# Add relevant Jupyter notebook extensions \n",
    "import sys\n",
    "sys.path.insert(0, '..')"
   ]
  },
  {
   "cell_type": "code",
   "execution_count": null,
   "metadata": {},
   "outputs": [],
   "source": [
    "# Import required modules\n",
    "from uuv_mission.dynamic import Submarine, ClosedLoop, Mission\n",
    "from uuv_mission.control import PDController\n",
    "import numpy as np\n",
    "\n",
    "print(\"Modules imported successfully!\")"
   ]
  },
  {
   "cell_type": "code",
   "execution_count": null,
   "metadata": {},
   "outputs": [],
   "source": [
    "# Create a random mission\n",
    "mission = Mission.random_mission(duration=200, scale=5.0)\n",
    "\n",
    "# Create submarine and PD controller\n",
    "sub = Submarine()\n",
    "controller = PDController(kp=0.15, kd=0.6)\n",
    "\n",
    "# Create closed-loop system\n",
    "closed_loop = ClosedLoop(sub, controller)\n",
    "\n",
    "# Simulate with random disturbances\n",
    "trajectory = closed_loop.simulate_with_random_disturbances(mission, variance=0.5)\n",
    "\n",
    "# Plot the results\n",
    "trajectory.plot_completed_mission(mission)"
   ]
  },
  {
   "cell_type": "code",
   "execution_count": null,
   "metadata": {},
   "outputs": [],
   "source": [
    "# You can double-check your Python path like this...\n",
    "import sys  \n",
    "print(sys.path)"
   ]
  },
  {
   "cell_type": "markdown",
   "metadata": {},
   "source": [
    "# Simulate closed-loop\n",
    "After implementing your control functionality, you can simulate the closed-loop with code that looks something like this..."
   ]
  },
  {
   "cell_type": "code",
   "execution_count": null,
   "metadata": {},
   "outputs": [],
   "source": [
    "# Import relevant modules\n",
    "\n",
    "sub = Submarine()\n",
    "# Instantiate your controller (depending on your implementation)\n",
    "closed_loop = ClosedLoop(sub, controller)\n",
    "mission = Mission.from_csv(\"path/to/file\") # You must implement this method in the Mission class\n",
    "\n",
    "trajectory = closed_loop.simulate_with_random_disturbances(mission)\n",
    "trajectory.plot_completed_mission(mission)"
   ]
  }
 ],
 "metadata": {
  "kernelspec": {
   "display_name": "first-venv",
   "language": "python",
   "name": "python3"
  },
  "language_info": {
   "codemirror_mode": {
    "name": "ipython",
    "version": 3
   },
   "file_extension": ".py",
   "mimetype": "text/x-python",
   "name": "python",
   "nbconvert_exporter": "python",
   "pygments_lexer": "ipython3",
   "version": "3.9.12"
  }
 },
 "nbformat": 4,
 "nbformat_minor": 2
}
